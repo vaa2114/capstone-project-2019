{
  "nbformat": 4,
  "nbformat_minor": 0,
  "metadata": {
    "colab": {
      "name": "hws/Causal_hw3_vaa2114.ipynb",
      "provenance": [],
      "collapsed_sections": [],
      "toc_visible": true,
      "authorship_tag": "ABX9TyMx9UBW8XSbeeI4xfkVV8xd",
      "include_colab_link": true
    },
    "kernelspec": {
      "name": "python3",
      "display_name": "Python 3"
    }
  },
  "cells": [
    {
      "cell_type": "markdown",
      "metadata": {
        "id": "view-in-github",
        "colab_type": "text"
      },
      "source": [
        "<a href=\"https://colab.research.google.com/github/vaa2114/capstone-project-2019/blob/master/hws/Causal_hw3_vaa2114.ipynb\" target=\"_parent\"><img src=\"https://colab.research.google.com/assets/colab-badge.svg\" alt=\"Open In Colab\"/></a>"
      ]
    },
    {
      "cell_type": "markdown",
      "metadata": {
        "id": "pcqGXcnO2cC4",
        "colab_type": "text"
      },
      "source": [
        "## Causal Inference - HW #3\n",
        "#### Name - Vineet Aguiar\n",
        "#### Uni - Vaa2114"
      ]
    },
    {
      "cell_type": "markdown",
      "metadata": {
        "id": "SMDqIwGX8EsU",
        "colab_type": "text"
      },
      "source": [
        "#### 1a) Causal Graph for the system "
      ]
    },
    {
      "cell_type": "code",
      "metadata": {
        "id": "saXl6DEKPxvD",
        "colab_type": "code",
        "outputId": "ad095271-bd61-460f-a55d-46b3005c0700",
        "colab": {
          "base_uri": "https://localhost:8080/",
          "height": 364
        }
      },
      "source": [
        "import pydot\n",
        "from IPython.display import Image, display, Markdown\n",
        "\n",
        "G = pydot.Dot()\n",
        "G.add_node(pydot.Node(name='U1'))\n",
        "G.add_node(pydot.Node(name='U2'))\n",
        "G.add_node(pydot.Node(name='X1'))\n",
        "G.add_node(pydot.Node(name='X2'))\n",
        "G.add_node(pydot.Node(name='Y'))\n",
        "\n",
        "G.add_edge(pydot.Edge('U1', 'X1'))\n",
        "G.add_edge(pydot.Edge('U1', 'U2'))\n",
        "G.add_edge(pydot.Edge('X1', 'X2'))\n",
        "G.add_edge(pydot.Edge('X2', 'Y'))\n",
        "G.add_edge(pydot.Edge('U2', 'Y'))\n",
        "\n",
        "plt = Image(G.create_png())\n",
        "display(plt)"
      ],
      "execution_count": 1,
      "outputs": [
        {
          "output_type": "display_data",
          "data": {
            "image/png": "[encoded data removed]",
            "text/plain": [
              "<IPython.core.display.Image object>"
            ]
          },
          "metadata": {
            "tags": []
          }
        }
      ]
    },
    {
      "cell_type": "markdown",
      "metadata": {
        "id": "j2DjJS1Qo3D_",
        "colab_type": "text"
      },
      "source": [
        "#### 1b) Set of back-door variables for the effect of $X_1$ on Y\n",
        "\n",
        "- $Z$ = {$U_1$}\n",
        "\n",
        "#### 1c) Data-generating process\n",
        "- $U_1$ ~ ${N(0,1)}$\n",
        "- $U_2$ ~ ${N(\\beta_{U_1, U_2} U_1,1)}$\n",
        "- $X_1$ ~ ${Binomial(1, p=logit^{-1}(\\beta_{U_1, X_1} U_2))}$\n",
        "- $X_2$ ~ ${N(\\beta_{X_1, X_2} X_1,1)}$\n",
        "- $Y$ ~ ${N(\\beta_{X_2, Y} X_2 + \\beta_{U_2, Y} U_2,1)}$\n",
        "\n"
      ]
    },
    {
      "cell_type": "code",
      "metadata": {
        "id": "4eFHU9VTsQaW",
        "colab_type": "code",
        "colab": {}
      },
      "source": [
        "import numpy as np\n",
        "import pandas as pd\n",
        "\n",
        "N = 1000\n",
        "\n",
        "u1 = np.random.normal(0, 1, size=N) # mean around 0\n",
        "\n",
        "beta_u1u2 = 0.1\n",
        "u2 = np.random.normal(beta_u1u2*u1, 1) # mean around 0 \n",
        "\n",
        "beta_u1x1 = 0.1\n",
        "# beta_u1x1 = np.random.normal(1, size=N)\n",
        "p_x1_given_u1 = 1. /(1 + np.exp(-beta_u1x1 * u1))\n",
        "x1 = np.random.binomial(1, p=p_x1_given_u1)\n",
        "\n",
        "beta_x1x2 = np.random.normal(1, size=N)\n",
        "# beta_x1x2 = 0.02\n",
        "x2 = np.random.normal(beta_x1x2 * x1, 1) #\n",
        "\n",
        "# beta_x2y = np.random.normal(1, size=N)\n",
        "# beta_u2y = np.random.normal(1, size=N)\n",
        "\n",
        "beta_x2y = 1\n",
        "beta_u2y = 0.02\n",
        "\n",
        "y = np.random.normal((beta_x2y * x2 + beta_u2y * u2), 1)\n",
        "\n",
        "df = pd.DataFrame({'u1': u1, 'u2': u2, 'x1' : x1, 'x2' : x2, 'y' : y})"
      ],
      "execution_count": 0,
      "outputs": []
    },
    {
      "cell_type": "code",
      "metadata": {
        "id": "O8C-i7S2X4FV",
        "colab_type": "code",
        "colab": {
          "base_uri": "https://localhost:8080/",
          "height": 282
        },
        "outputId": "5d2c9945-ec87-4cb6-df1b-ac42b0810ff5"
      },
      "source": [
        "df['u1'].plot()\n",
        "df['u2'].plot()\n",
        "\n",
        "print(\"Plotting U1 and U2\")"
      ],
      "execution_count": 50,
      "outputs": [
        {
          "output_type": "stream",
          "text": [
            "Plotting U1 and U2\n"
          ],
          "name": "stdout"
        },
        {
          "output_type": "display_data",
          "data": {
            "image/png": "[encoded data removed]",
            "text/plain": [
              "<Figure size 432x288 with 1 Axes>"
            ]
          },
          "metadata": {
            "tags": []
          }
        }
      ]
    },
    {
      "cell_type": "code",
      "metadata": {
        "id": "vguBSRtjojsG",
        "colab_type": "code",
        "outputId": "a440d93e-373b-4cf5-c16e-7834370e86c3",
        "colab": {
          "base_uri": "https://localhost:8080/",
          "height": 282
        }
      },
      "source": [
        "df['y'].plot()\n",
        "df['x1'].plot()\n",
        "# df['x2'].plot()\n",
        "\n",
        "print(\"Plotting X1(Binomial) and Y\")"
      ],
      "execution_count": 51,
      "outputs": [
        {
          "output_type": "stream",
          "text": [
            "Plotting X1(Binomial) and Y\n"
          ],
          "name": "stdout"
        },
        {
          "output_type": "display_data",
          "data": {
            "image/png": "[encoded data removed]",
            "text/plain": [
              "<Figure size 432x288 with 1 Axes>"
            ]
          },
          "metadata": {
            "tags": []
          }
        }
      ]
    },
    {
      "cell_type": "markdown",
      "metadata": {
        "id": "dtS5aYjI2Dtf",
        "colab_type": "text"
      },
      "source": [
        "#### 1d)True and naive averate treatment effect\n",
        "- ${\\delta}$ = 1\n"
      ]
    },
    {
      "cell_type": "code",
      "metadata": {
        "id": "Rq1hkDDVxEkA",
        "colab_type": "code",
        "colab": {
          "base_uri": "https://localhost:8080/",
          "height": 35
        },
        "outputId": "50cbf29d-4f6b-42e7-a52e-9afaf44f6ac4"
      },
      "source": [
        "delta_naive = df.groupby('x1').mean()['y'][1] - df.groupby('x1').mean()['y'][0]\n",
        "print(\"𝛿𝑛𝑎𝑖𝑣𝑒: \", delta_naive)"
      ],
      "execution_count": 53,
      "outputs": [
        {
          "output_type": "stream",
          "text": [
            "𝛿𝑛𝑎𝑖𝑣𝑒:  1.1255756790991407\n"
          ],
          "name": "stdout"
        }
      ]
    },
    {
      "cell_type": "markdown",
      "metadata": {
        "id": "XFvQx0Bu14qJ",
        "colab_type": "text"
      },
      "source": [
        "#### 1e) Using OLS with the backdoor set ${U1}$ to make an unbiased estimate $\\delta_{OLS}$\n"
      ]
    },
    {
      "cell_type": "code",
      "metadata": {
        "id": "dyQ43qtvqv1S",
        "colab_type": "code",
        "colab": {
          "base_uri": "https://localhost:8080/",
          "height": 465
        },
        "outputId": "1b7cd25e-f7e9-42e6-dda0-eb82452f22c3"
      },
      "source": [
        "from statsmodels.api import OLS\n",
        "\n",
        "df['intercept'] = 1\n",
        "model = OLS(endog=df['y'], \n",
        "            exog=df[['x1', 'u1', 'intercept']])\n",
        "result = model.fit()\n",
        "result.summary()"
      ],
      "execution_count": 54,
      "outputs": [
        {
          "output_type": "execute_result",
          "data": {
            "text/html": [
              "<table class=\"simpletable\">\n",
              "<caption>OLS Regression Results</caption>\n",
              "<tr>\n",
              "  <th>Dep. Variable:</th>            <td>y</td>        <th>  R-squared:         </th> <td>   0.112</td>\n",
              "</tr>\n",
              "<tr>\n",
              "  <th>Model:</th>                   <td>OLS</td>       <th>  Adj. R-squared:    </th> <td>   0.111</td>\n",
              "</tr>\n",
              "<tr>\n",
              "  <th>Method:</th>             <td>Least Squares</td>  <th>  F-statistic:       </th> <td>   63.16</td>\n",
              "</tr>\n",
              "<tr>\n",
              "  <th>Date:</th>             <td>Sun, 08 Mar 2020</td> <th>  Prob (F-statistic):</th> <td>1.49e-26</td>\n",
              "</tr>\n",
              "<tr>\n",
              "  <th>Time:</th>                 <td>23:07:45</td>     <th>  Log-Likelihood:    </th> <td> -1877.3</td>\n",
              "</tr>\n",
              "<tr>\n",
              "  <th>No. Observations:</th>      <td>  1000</td>      <th>  AIC:               </th> <td>   3761.</td>\n",
              "</tr>\n",
              "<tr>\n",
              "  <th>Df Residuals:</th>          <td>   997</td>      <th>  BIC:               </th> <td>   3775.</td>\n",
              "</tr>\n",
              "<tr>\n",
              "  <th>Df Model:</th>              <td>     2</td>      <th>                     </th>     <td> </td>   \n",
              "</tr>\n",
              "<tr>\n",
              "  <th>Covariance Type:</th>      <td>nonrobust</td>    <th>                     </th>     <td> </td>   \n",
              "</tr>\n",
              "</table>\n",
              "<table class=\"simpletable\">\n",
              "<tr>\n",
              "      <td></td>         <th>coef</th>     <th>std err</th>      <th>t</th>      <th>P>|t|</th>  <th>[0.025</th>    <th>0.975]</th>  \n",
              "</tr>\n",
              "<tr>\n",
              "  <th>x1</th>        <td>    1.1234</td> <td>    0.101</td> <td>   11.170</td> <td> 0.000</td> <td>    0.926</td> <td>    1.321</td>\n",
              "</tr>\n",
              "<tr>\n",
              "  <th>u1</th>        <td>    0.0121</td> <td>    0.049</td> <td>    0.247</td> <td> 0.805</td> <td>   -0.084</td> <td>    0.108</td>\n",
              "</tr>\n",
              "<tr>\n",
              "  <th>intercept</th> <td>   -0.0268</td> <td>    0.071</td> <td>   -0.377</td> <td> 0.706</td> <td>   -0.166</td> <td>    0.113</td>\n",
              "</tr>\n",
              "</table>\n",
              "<table class=\"simpletable\">\n",
              "<tr>\n",
              "  <th>Omnibus:</th>       <td> 6.497</td> <th>  Durbin-Watson:     </th> <td>   1.984</td>\n",
              "</tr>\n",
              "<tr>\n",
              "  <th>Prob(Omnibus):</th> <td> 0.039</td> <th>  Jarque-Bera (JB):  </th> <td>   8.395</td>\n",
              "</tr>\n",
              "<tr>\n",
              "  <th>Skew:</th>          <td> 0.039</td> <th>  Prob(JB):          </th> <td>  0.0150</td>\n",
              "</tr>\n",
              "<tr>\n",
              "  <th>Kurtosis:</th>      <td> 3.442</td> <th>  Cond. No.          </th> <td>    2.64</td>\n",
              "</tr>\n",
              "</table><br/><br/>Warnings:<br/>[1] Standard Errors assume that the covariance matrix of the errors is correctly specified."
            ],
            "text/plain": [
              "<class 'statsmodels.iolib.summary.Summary'>\n",
              "\"\"\"\n",
              "                            OLS Regression Results                            \n",
              "==============================================================================\n",
              "Dep. Variable:                      y   R-squared:                       0.112\n",
              "Model:                            OLS   Adj. R-squared:                  0.111\n",
              "Method:                 Least Squares   F-statistic:                     63.16\n",
              "Date:                Sun, 08 Mar 2020   Prob (F-statistic):           1.49e-26\n",
              "Time:                        23:07:45   Log-Likelihood:                -1877.3\n",
              "No. Observations:                1000   AIC:                             3761.\n",
              "Df Residuals:                     997   BIC:                             3775.\n",
              "Df Model:                           2                                         \n",
              "Covariance Type:            nonrobust                                         \n",
              "==============================================================================\n",
              "                 coef    std err          t      P>|t|      [0.025      0.975]\n",
              "------------------------------------------------------------------------------\n",
              "x1             1.1234      0.101     11.170      0.000       0.926       1.321\n",
              "u1             0.0121      0.049      0.247      0.805      -0.084       0.108\n",
              "intercept     -0.0268      0.071     -0.377      0.706      -0.166       0.113\n",
              "==============================================================================\n",
              "Omnibus:                        6.497   Durbin-Watson:                   1.984\n",
              "Prob(Omnibus):                  0.039   Jarque-Bera (JB):                8.395\n",
              "Skew:                           0.039   Prob(JB):                       0.0150\n",
              "Kurtosis:                       3.442   Cond. No.                         2.64\n",
              "==============================================================================\n",
              "\n",
              "Warnings:\n",
              "[1] Standard Errors assume that the covariance matrix of the errors is correctly specified.\n",
              "\"\"\""
            ]
          },
          "metadata": {
            "tags": []
          },
          "execution_count": 54
        }
      ]
    },
    {
      "cell_type": "code",
      "metadata": {
        "id": "R72yQpvKUIzi",
        "colab_type": "code",
        "colab": {
          "base_uri": "https://localhost:8080/",
          "height": 69
        },
        "outputId": "368570f7-5555-4180-8708-5305135162c0"
      },
      "source": [
        "delta_ols = round(result.params['x1'], 4)\n",
        "std_err_ols = round(result.bse['x1'], 4)\n",
        "\n",
        "int1 = round( delta_ols - (1.96 * std_err_ols), 4)\n",
        "int2 = round( delta_ols + (1.96 * std_err_ols), 4)\n",
        "\n",
        "print(\"𝛿_𝑂𝐿𝑆:\", delta_ols)\n",
        "print(\"Standard error for 𝛿_𝑂𝐿𝑆:\", std_err_ols)\n",
        "print(f\"95% Confidence Interval: ({int1}, {int2})\")"
      ],
      "execution_count": 55,
      "outputs": [
        {
          "output_type": "stream",
          "text": [
            "𝛿_𝑂𝐿𝑆: 1.1234\n",
            "Standard error for 𝛿_𝑂𝐿𝑆: 0.1006\n",
            "95% Confidence Interval: (0.9262, 1.3206)\n"
          ],
          "name": "stdout"
        }
      ]
    },
    {
      "cell_type": "markdown",
      "metadata": {
        "id": "8EDvicAcubXn",
        "colab_type": "text"
      },
      "source": [
        "#### 1f) Inverse Propensity Weighted OLS with not covariates (Unbiased est of the ATE)\n",
        "\n",
        "- Creating the propensity score model"
      ]
    },
    {
      "cell_type": "code",
      "metadata": {
        "id": "oRMp-LfTrv0X",
        "colab_type": "code",
        "colab": {
          "base_uri": "https://localhost:8080/",
          "height": 299
        },
        "outputId": "d553f494-9e62-4ce4-e024-a4932b56cfb8"
      },
      "source": [
        "from statsmodels.discrete.discrete_model import Logit\n",
        "\n",
        "df['intercept'] = 1\n",
        "model = Logit(endog=df['x1'], \n",
        "              exog=df[['u1', 'intercept']])\n",
        "result = model.fit()\n",
        "result.summary()"
      ],
      "execution_count": 56,
      "outputs": [
        {
          "output_type": "stream",
          "text": [
            "Optimization terminated successfully.\n",
            "         Current function value: 0.689131\n",
            "         Iterations 4\n"
          ],
          "name": "stdout"
        },
        {
          "output_type": "execute_result",
          "data": {
            "text/html": [
              "<table class=\"simpletable\">\n",
              "<caption>Logit Regression Results</caption>\n",
              "<tr>\n",
              "  <th>Dep. Variable:</th>          <td>x1</td>        <th>  No. Observations:  </th>  <td>  1000</td> \n",
              "</tr>\n",
              "<tr>\n",
              "  <th>Model:</th>                 <td>Logit</td>      <th>  Df Residuals:      </th>  <td>   998</td> \n",
              "</tr>\n",
              "<tr>\n",
              "  <th>Method:</th>                 <td>MLE</td>       <th>  Df Model:          </th>  <td>     1</td> \n",
              "</tr>\n",
              "<tr>\n",
              "  <th>Date:</th>            <td>Sun, 08 Mar 2020</td> <th>  Pseudo R-squ.:     </th> <td>0.005791</td>\n",
              "</tr>\n",
              "<tr>\n",
              "  <th>Time:</th>                <td>23:08:15</td>     <th>  Log-Likelihood:    </th> <td> -689.13</td>\n",
              "</tr>\n",
              "<tr>\n",
              "  <th>converged:</th>             <td>True</td>       <th>  LL-Null:           </th> <td> -693.15</td>\n",
              "</tr>\n",
              "<tr>\n",
              "  <th>Covariance Type:</th>     <td>nonrobust</td>    <th>  LLR p-value:       </th> <td>0.004608</td>\n",
              "</tr>\n",
              "</table>\n",
              "<table class=\"simpletable\">\n",
              "<tr>\n",
              "      <td></td>         <th>coef</th>     <th>std err</th>      <th>z</th>      <th>P>|z|</th>  <th>[0.025</th>    <th>0.975]</th>  \n",
              "</tr>\n",
              "<tr>\n",
              "  <th>u1</th>        <td>    0.1751</td> <td>    0.062</td> <td>    2.816</td> <td> 0.005</td> <td>    0.053</td> <td>    0.297</td>\n",
              "</tr>\n",
              "<tr>\n",
              "  <th>intercept</th> <td>    0.0006</td> <td>    0.064</td> <td>    0.010</td> <td> 0.992</td> <td>   -0.124</td> <td>    0.125</td>\n",
              "</tr>\n",
              "</table>"
            ],
            "text/plain": [
              "<class 'statsmodels.iolib.summary.Summary'>\n",
              "\"\"\"\n",
              "                           Logit Regression Results                           \n",
              "==============================================================================\n",
              "Dep. Variable:                     x1   No. Observations:                 1000\n",
              "Model:                          Logit   Df Residuals:                      998\n",
              "Method:                           MLE   Df Model:                            1\n",
              "Date:                Sun, 08 Mar 2020   Pseudo R-squ.:                0.005791\n",
              "Time:                        23:08:15   Log-Likelihood:                -689.13\n",
              "converged:                       True   LL-Null:                       -693.15\n",
              "Covariance Type:            nonrobust   LLR p-value:                  0.004608\n",
              "==============================================================================\n",
              "                 coef    std err          z      P>|z|      [0.025      0.975]\n",
              "------------------------------------------------------------------------------\n",
              "u1             0.1751      0.062      2.816      0.005       0.053       0.297\n",
              "intercept      0.0006      0.064      0.010      0.992      -0.124       0.125\n",
              "==============================================================================\n",
              "\"\"\""
            ]
          },
          "metadata": {
            "tags": []
          },
          "execution_count": 56
        }
      ]
    },
    {
      "cell_type": "markdown",
      "metadata": {
        "id": "RIJwtpKFwOll",
        "colab_type": "text"
      },
      "source": [
        "- Calculating the propensity score"
      ]
    },
    {
      "cell_type": "code",
      "metadata": {
        "id": "TMjvHdwXwImJ",
        "colab_type": "code",
        "colab": {}
      },
      "source": [
        "df['propensity_score'] = df['x1'] * result.predict() + \\\n",
        "                         (1 - df['x1']) * (1 - result.predict())"
      ],
      "execution_count": 0,
      "outputs": []
    },
    {
      "cell_type": "markdown",
      "metadata": {
        "id": "CwWrGf76wuno",
        "colab_type": "text"
      },
      "source": [
        "- Use the weights in the OLS regression model"
      ]
    },
    {
      "cell_type": "code",
      "metadata": {
        "id": "UAmjhgHiwYMJ",
        "colab_type": "code",
        "colab": {
          "base_uri": "https://localhost:8080/",
          "height": 444
        },
        "outputId": "61e2b45c-c31f-4aa1-fbe7-e7d6f77f0336"
      },
      "source": [
        "df['intercept'] = 1\n",
        "df['weight'] = 1. / df['propensity_score']\n",
        "model = OLS(endog=df['y'], \n",
        "            exog=df[['x1', 'intercept']],\n",
        "            weights=df['weight']\n",
        "           )\n",
        "result = model.fit()\n",
        "result.summary()"
      ],
      "execution_count": 58,
      "outputs": [
        {
          "output_type": "execute_result",
          "data": {
            "text/html": [
              "<table class=\"simpletable\">\n",
              "<caption>OLS Regression Results</caption>\n",
              "<tr>\n",
              "  <th>Dep. Variable:</th>            <td>y</td>        <th>  R-squared:         </th> <td>   0.559</td> \n",
              "</tr>\n",
              "<tr>\n",
              "  <th>Model:</th>                   <td>OLS</td>       <th>  Adj. R-squared:    </th> <td>   0.559</td> \n",
              "</tr>\n",
              "<tr>\n",
              "  <th>Method:</th>             <td>Least Squares</td>  <th>  F-statistic:       </th> <td>   1266.</td> \n",
              "</tr>\n",
              "<tr>\n",
              "  <th>Date:</th>             <td>Sun, 08 Mar 2020</td> <th>  Prob (F-statistic):</th> <td>1.01e-179</td>\n",
              "</tr>\n",
              "<tr>\n",
              "  <th>Time:</th>                 <td>23:08:21</td>     <th>  Log-Likelihood:    </th> <td> -1877.3</td> \n",
              "</tr>\n",
              "<tr>\n",
              "  <th>No. Observations:</th>      <td>  1000</td>      <th>  AIC:               </th> <td>   3759.</td> \n",
              "</tr>\n",
              "<tr>\n",
              "  <th>Df Residuals:</th>          <td>   998</td>      <th>  BIC:               </th> <td>   3768.</td> \n",
              "</tr>\n",
              "<tr>\n",
              "  <th>Df Model:</th>              <td>     1</td>      <th>                     </th>     <td> </td>    \n",
              "</tr>\n",
              "<tr>\n",
              "  <th>Covariance Type:</th>      <td>nonrobust</td>    <th>                     </th>     <td> </td>    \n",
              "</tr>\n",
              "</table>\n",
              "<table class=\"simpletable\">\n",
              "<tr>\n",
              "      <td></td>         <th>coef</th>     <th>std err</th>      <th>t</th>      <th>P>|t|</th>  <th>[0.025</th>    <th>0.975]</th>  \n",
              "</tr>\n",
              "<tr>\n",
              "  <th>x1</th>        <td>    1.1256</td> <td>    0.100</td> <td>   11.242</td> <td> 0.000</td> <td>    0.929</td> <td>    1.322</td>\n",
              "</tr>\n",
              "<tr>\n",
              "  <th>intercept</th> <td>   -0.0277</td> <td>    0.071</td> <td>   -0.390</td> <td> 0.696</td> <td>   -0.167</td> <td>    0.111</td>\n",
              "</tr>\n",
              "</table>\n",
              "<table class=\"simpletable\">\n",
              "<tr>\n",
              "  <th>Omnibus:</th>       <td> 6.494</td> <th>  Durbin-Watson:     </th> <td>   1.985</td>\n",
              "</tr>\n",
              "<tr>\n",
              "  <th>Prob(Omnibus):</th> <td> 0.039</td> <th>  Jarque-Bera (JB):  </th> <td>   8.397</td>\n",
              "</tr>\n",
              "<tr>\n",
              "  <th>Skew:</th>          <td> 0.038</td> <th>  Prob(JB):          </th> <td>  0.0150</td>\n",
              "</tr>\n",
              "<tr>\n",
              "  <th>Kurtosis:</th>      <td> 3.442</td> <th>  Cond. No.          </th> <td>    2.62</td>\n",
              "</tr>\n",
              "</table><br/><br/>Warnings:<br/>[1] Standard Errors assume that the covariance matrix of the errors is correctly specified."
            ],
            "text/plain": [
              "<class 'statsmodels.iolib.summary.Summary'>\n",
              "\"\"\"\n",
              "                            OLS Regression Results                            \n",
              "==============================================================================\n",
              "Dep. Variable:                      y   R-squared:                       0.559\n",
              "Model:                            OLS   Adj. R-squared:                  0.559\n",
              "Method:                 Least Squares   F-statistic:                     1266.\n",
              "Date:                Sun, 08 Mar 2020   Prob (F-statistic):          1.01e-179\n",
              "Time:                        23:08:21   Log-Likelihood:                -1877.3\n",
              "No. Observations:                1000   AIC:                             3759.\n",
              "Df Residuals:                     998   BIC:                             3768.\n",
              "Df Model:                           1                                         \n",
              "Covariance Type:            nonrobust                                         \n",
              "==============================================================================\n",
              "                 coef    std err          t      P>|t|      [0.025      0.975]\n",
              "------------------------------------------------------------------------------\n",
              "x1             1.1256      0.100     11.242      0.000       0.929       1.322\n",
              "intercept     -0.0277      0.071     -0.390      0.696      -0.167       0.111\n",
              "==============================================================================\n",
              "Omnibus:                        6.494   Durbin-Watson:                   1.985\n",
              "Prob(Omnibus):                  0.039   Jarque-Bera (JB):                8.397\n",
              "Skew:                           0.038   Prob(JB):                       0.0150\n",
              "Kurtosis:                       3.442   Cond. No.                         2.62\n",
              "==============================================================================\n",
              "\n",
              "Warnings:\n",
              "[1] Standard Errors assume that the covariance matrix of the errors is correctly specified.\n",
              "\"\"\""
            ]
          },
          "metadata": {
            "tags": []
          },
          "execution_count": 58
        }
      ]
    },
    {
      "cell_type": "code",
      "metadata": {
        "id": "toLBakNOwx8C",
        "colab_type": "code",
        "colab": {
          "base_uri": "https://localhost:8080/",
          "height": 69
        },
        "outputId": "db309ed2-52bc-4b20-eaea-9b63a8d6b849"
      },
      "source": [
        "delta_prop = round(result.params['x1'], 4)\n",
        "std_err_prop = round(result.bse['x1'], 4)\n",
        "\n",
        "int1 = round( delta_prop - (1.96 * std_err_prop), 4)\n",
        "int2 = round( delta_prop + (1.96 * std_err_prop), 4)\n",
        "\n",
        "print(\"𝛿_IPW:\", delta_prop)\n",
        "print(\"Standard error for 𝛿_IPW:\", std_err_prop)\n",
        "print(f\"95% Confidence Interval: ({int1}, {int2})\")"
      ],
      "execution_count": 59,
      "outputs": [
        {
          "output_type": "stream",
          "text": [
            "𝛿_IPW: 1.1256\n",
            "Standard error for 𝛿_IPW: 0.1001\n",
            "95% Confidence Interval: (0.9294, 1.3218)\n"
          ],
          "name": "stdout"
        }
      ]
    },
    {
      "cell_type": "markdown",
      "metadata": {
        "id": "0sPBwsGLyJ69",
        "colab_type": "text"
      },
      "source": [
        "#### 1g) Higher Capacity ML model (RandomForestRegressor) to computer $\\delta_{ML}$"
      ]
    },
    {
      "cell_type": "code",
      "metadata": {
        "id": "LhWTPVZGw_w6",
        "colab_type": "code",
        "colab": {}
      },
      "source": [
        "from sklearn.ensemble import RandomForestRegressor\n",
        "\n",
        "# model = RandomForestRegressor(n_estimators=N)\n",
        "# model = model.fit(df[['x1']],\n",
        "#                   df['y'],\n",
        "#                   sample_weight=df['weight'])\n",
        "\n",
        "# df_1 = df.copy()\n",
        "# df_0 = df.copy()\n",
        "\n",
        "# df_1['x1'] = 1\n",
        "# y_1 = model.predict(df_1[['x1']])\n",
        "\n",
        "# df_0['x1'] = 0\n",
        "# y_0 = model.predict(df_0[['x1']])\n",
        "\n",
        "samples = 30 \n",
        "deltas = []\n",
        "\n",
        "for _ in range(samples):\n",
        "    df_sample = df.sample(n=len(df), replace=True)\n",
        "\n",
        "    model = RandomForestRegressor(n_estimators=N)\n",
        "    model = model.fit(df_sample[['x1']],\n",
        "                      df_sample['y'],\n",
        "                      sample_weight=df_sample['weight'])\n",
        "\n",
        "    df_1 = df_sample.copy()\n",
        "    df_0 = df_sample.copy()\n",
        "\n",
        "    df_1['x1'] = 1\n",
        "    y_1 = model.predict(df_1[['x1']])\n",
        "\n",
        "    df_0['x1'] = 0\n",
        "    y_0 = model.predict(df_0[['x1']])\n",
        "\n",
        "    deltas.append((y_1 - y_0).mean())\n",
        "\n",
        "deltas = pd.Series(deltas)"
      ],
      "execution_count": 0,
      "outputs": []
    },
    {
      "cell_type": "code",
      "metadata": {
        "id": "9AMmA68AWqZh",
        "colab_type": "code",
        "colab": {
          "base_uri": "https://localhost:8080/",
          "height": 282
        },
        "outputId": "5ac697a3-459e-45f3-fefd-6a7ab3369c07"
      },
      "source": [
        "deltas.hist()"
      ],
      "execution_count": 65,
      "outputs": [
        {
          "output_type": "execute_result",
          "data": {
            "text/plain": [
              "<matplotlib.axes._subplots.AxesSubplot at 0x7fec920abe48>"
            ]
          },
          "metadata": {
            "tags": []
          },
          "execution_count": 65
        },
        {
          "output_type": "display_data",
          "data": {
            "image/png": "[encoded data removed]",
            "text/plain": [
              "<Figure size 432x288 with 1 Axes>"
            ]
          },
          "metadata": {
            "tags": []
          }
        }
      ]
    },
    {
      "cell_type": "code",
      "metadata": {
        "id": "zvUOficQx0SC",
        "colab_type": "code",
        "colab": {
          "base_uri": "https://localhost:8080/",
          "height": 69
        },
        "outputId": "67e8f7ad-5124-4f9a-9837-73b6c00b41aa"
      },
      "source": [
        "delta_ML = round((y_1 - y_0).mean(),4)\n",
        "std_err_ML = round( ((abs(y_1 - df_1['x1']).mean() + abs(y_0 - df_0['x1']).mean()) / 2 ), 4)\n",
        "\n",
        "int1 = round( delta_ML - (1.96 * std_err_ML), 4)\n",
        "int2 = round( delta_ML + (1.96 * std_err_ML), 4)\n",
        "\n",
        "print(\"𝛿_𝑀𝐿: \", delta_ML)\n",
        "print(\"Standard error for 𝛿_IPW:\", std_err_ML)\n",
        "print(f\"95% Confidence Interval: ({int1}, {int2})\")\n"
      ],
      "execution_count": 66,
      "outputs": [
        {
          "output_type": "stream",
          "text": [
            "𝛿_𝑀𝐿:  0.8431\n",
            "Standard error for 𝛿_IPW: 0.0784\n",
            "95% Confidence Interval: (0.6894, 0.9968)\n"
          ],
          "name": "stdout"
        }
      ]
    },
    {
      "cell_type": "markdown",
      "metadata": {
        "id": "fpYUaqFA6Fw2",
        "colab_type": "text"
      },
      "source": [
        "#### 1h) Doubly robust Estimate $\\delta_{DR,ML}$ by adding the variable $U2$ as a predictor"
      ]
    },
    {
      "cell_type": "code",
      "metadata": {
        "id": "kBGBjMQi37ct",
        "colab_type": "code",
        "colab": {}
      },
      "source": [
        "samples = 30 \n",
        "deltas = []\n",
        "\n",
        "for _ in range(samples):\n",
        "    df_sample = df.sample(n=len(df), replace=True)\n",
        "\n",
        "    model = RandomForestRegressor(n_estimators=N)\n",
        "    model = model.fit(df_sample[['x1', 'u2']],\n",
        "                      df_sample['y'],\n",
        "                      sample_weight=df_sample['weight'])\n",
        "\n",
        "    df_1 = df_sample.copy()\n",
        "    df_0 = df_sample.copy()\n",
        "\n",
        "    df_1['x1'] = 1\n",
        "    y_1 = model.predict(df_1[['x1', 'u2']])\n",
        "\n",
        "    df_0['x1'] = 0\n",
        "    y_0 = model.predict(df_0[['x1', 'u2']])\n",
        "\n",
        "    deltas.append((y_1 - y_0).mean())\n",
        "\n",
        "deltas = pd.Series(deltas)"
      ],
      "execution_count": 0,
      "outputs": []
    },
    {
      "cell_type": "code",
      "metadata": {
        "id": "jpAAKEPJ7IDu",
        "colab_type": "code",
        "colab": {
          "base_uri": "https://localhost:8080/",
          "height": 282
        },
        "outputId": "133c5eed-4ea6-48ec-c6dd-548cd3844fa1"
      },
      "source": [
        "deltas.hist()"
      ],
      "execution_count": 68,
      "outputs": [
        {
          "output_type": "execute_result",
          "data": {
            "text/plain": [
              "<matplotlib.axes._subplots.AxesSubplot at 0x7fec7e5f8fd0>"
            ]
          },
          "metadata": {
            "tags": []
          },
          "execution_count": 68
        },
        {
          "output_type": "display_data",
          "data": {
            "image/png": "[encoded data removed]",
            "text/plain": [
              "<Figure size 432x288 with 1 Axes>"
            ]
          },
          "metadata": {
            "tags": []
          }
        }
      ]
    },
    {
      "cell_type": "code",
      "metadata": {
        "id": "Yga2hvcM7LNO",
        "colab_type": "code",
        "colab": {
          "base_uri": "https://localhost:8080/",
          "height": 35
        },
        "outputId": "09cdef0a-721b-4fcc-9298-baf9b252d5d5"
      },
      "source": [
        "print(\"Average 𝛿_DR,ML: \", round(deltas.mean(),4))"
      ],
      "execution_count": 69,
      "outputs": [
        {
          "output_type": "stream",
          "text": [
            "Average 𝛿_DR,ML:  1.1063\n"
          ],
          "name": "stdout"
        }
      ]
    },
    {
      "cell_type": "code",
      "metadata": {
        "id": "CYaV8JGA7eQn",
        "colab_type": "code",
        "colab": {}
      },
      "source": [
        ""
      ],
      "execution_count": 0,
      "outputs": []
    }
  ]
}