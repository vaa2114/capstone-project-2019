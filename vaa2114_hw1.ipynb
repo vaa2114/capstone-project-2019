{
  "nbformat": 4,
  "nbformat_minor": 0,
  "metadata": {
    "colab": {
      "name": "vaa2114_hw1.ipynb",
      "provenance": [],
      "authorship_tag": "ABX9TyNanOlqfbdRTuV8e6zSLlqR",
      "include_colab_link": true
    },
    "kernelspec": {
      "name": "python3",
      "display_name": "Python 3"
    }
  },
  "cells": [
    {
      "cell_type": "markdown",
      "metadata": {
        "id": "view-in-github",
        "colab_type": "text"
      },
      "source": [
        "<a href=\"https://colab.research.google.com/github/vaa2114/capstone-project-2019/blob/master/vaa2114_hw1.ipynb\" target=\"_parent\"><img src=\"https://colab.research.google.com/assets/colab-badge.svg\" alt=\"Open In Colab\"/></a>"
      ]
    },
    {
      "cell_type": "code",
      "metadata": {
        "id": "lOXu-ydXWFG-",
        "colab_type": "code",
        "colab": {}
      },
      "source": [
        "import numpy as np\n",
        "import pandas as pd"
      ],
      "execution_count": 0,
      "outputs": []
    },
    {
      "cell_type": "code",
      "metadata": {
        "id": "MmocLZZRWa-p",
        "colab_type": "code",
        "colab": {
          "base_uri": "https://localhost:8080/",
          "height": 198
        },
        "outputId": "aa430fa0-dac8-4714-a6cc-bdb92431b81d"
      },
      "source": [
        "N = 1000\n",
        "delta = 1.\n",
        "\n",
        "y0 = np.random.normal(size=N)\n",
        "y1 = np.random.normal(delta, size=N)\n",
        "\n",
        "\n",
        "deltas = y1 - y0\n",
        "\n",
        "df = pd.DataFrame({'$Y^{(D=1)}$': y1,\n",
        "                   '$Y^{(D=0)}$': y0,\n",
        "                   '$\\delta$': deltas })\n",
        "df.head()"
      ],
      "execution_count": 19,
      "outputs": [
        {
          "output_type": "execute_result",
          "data": {
            "text/html": [
              "<div>\n",
              "<style scoped>\n",
              "    .dataframe tbody tr th:only-of-type {\n",
              "        vertical-align: middle;\n",
              "    }\n",
              "\n",
              "    .dataframe tbody tr th {\n",
              "        vertical-align: top;\n",
              "    }\n",
              "\n",
              "    .dataframe thead th {\n",
              "        text-align: right;\n",
              "    }\n",
              "</style>\n",
              "<table border=\"1\" class=\"dataframe\">\n",
              "  <thead>\n",
              "    <tr style=\"text-align: right;\">\n",
              "      <th></th>\n",
              "      <th>$Y^{(D=1)}$</th>\n",
              "      <th>$Y^{(D=0)}$</th>\n",
              "      <th>$\\delta$</th>\n",
              "    </tr>\n",
              "  </thead>\n",
              "  <tbody>\n",
              "    <tr>\n",
              "      <th>0</th>\n",
              "      <td>1.874307</td>\n",
              "      <td>-0.258678</td>\n",
              "      <td>2.132985</td>\n",
              "    </tr>\n",
              "    <tr>\n",
              "      <th>1</th>\n",
              "      <td>0.242769</td>\n",
              "      <td>-1.874887</td>\n",
              "      <td>2.117657</td>\n",
              "    </tr>\n",
              "    <tr>\n",
              "      <th>2</th>\n",
              "      <td>1.201981</td>\n",
              "      <td>-0.504453</td>\n",
              "      <td>1.706435</td>\n",
              "    </tr>\n",
              "    <tr>\n",
              "      <th>3</th>\n",
              "      <td>2.370599</td>\n",
              "      <td>0.484012</td>\n",
              "      <td>1.886587</td>\n",
              "    </tr>\n",
              "    <tr>\n",
              "      <th>4</th>\n",
              "      <td>0.839026</td>\n",
              "      <td>0.390664</td>\n",
              "      <td>0.448362</td>\n",
              "    </tr>\n",
              "  </tbody>\n",
              "</table>\n",
              "</div>"
            ],
            "text/plain": [
              "   $Y^{(D=1)}$  $Y^{(D=0)}$  $\\delta$\n",
              "0     1.874307    -0.258678  2.132985\n",
              "1     0.242769    -1.874887  2.117657\n",
              "2     1.201981    -0.504453  1.706435\n",
              "3     2.370599     0.484012  1.886587\n",
              "4     0.839026     0.390664  0.448362"
            ]
          },
          "metadata": {
            "tags": []
          },
          "execution_count": 19
        }
      ]
    },
    {
      "cell_type": "code",
      "metadata": {
        "id": "mG2UxnwBXKCg",
        "colab_type": "code",
        "colab": {}
      },
      "source": [
        "df['$D$'] = np.random.binomial(1 , p=0.5, size=N)"
      ],
      "execution_count": 0,
      "outputs": []
    },
    {
      "cell_type": "code",
      "metadata": {
        "id": "IUEAm1pcYbve",
        "colab_type": "code",
        "colab": {
          "base_uri": "https://localhost:8080/",
          "height": 198
        },
        "outputId": "9db9be11-3620-401e-bd4f-d5fa74c08718"
      },
      "source": [
        "df['$Y$'] = df['$D$'] * df['$Y^{(D=1)}$'] + \\\n",
        "(1. - df['$D$']) * df['$Y^{(D=0)}$']\n",
        "            \n",
        "df.sample(5)"
      ],
      "execution_count": 30,
      "outputs": [
        {
          "output_type": "execute_result",
          "data": {
            "text/html": [
              "<div>\n",
              "<style scoped>\n",
              "    .dataframe tbody tr th:only-of-type {\n",
              "        vertical-align: middle;\n",
              "    }\n",
              "\n",
              "    .dataframe tbody tr th {\n",
              "        vertical-align: top;\n",
              "    }\n",
              "\n",
              "    .dataframe thead th {\n",
              "        text-align: right;\n",
              "    }\n",
              "</style>\n",
              "<table border=\"1\" class=\"dataframe\">\n",
              "  <thead>\n",
              "    <tr style=\"text-align: right;\">\n",
              "      <th></th>\n",
              "      <th>$Y^{(D=1)}$</th>\n",
              "      <th>$Y^{(D=0)}$</th>\n",
              "      <th>$\\delta$</th>\n",
              "      <th>$D$</th>\n",
              "      <th>$Y$</th>\n",
              "    </tr>\n",
              "  </thead>\n",
              "  <tbody>\n",
              "    <tr>\n",
              "      <th>16</th>\n",
              "      <td>-0.164672</td>\n",
              "      <td>1.000173</td>\n",
              "      <td>-1.164844</td>\n",
              "      <td>1</td>\n",
              "      <td>-0.164672</td>\n",
              "    </tr>\n",
              "    <tr>\n",
              "      <th>261</th>\n",
              "      <td>1.169190</td>\n",
              "      <td>-0.475214</td>\n",
              "      <td>1.644403</td>\n",
              "      <td>1</td>\n",
              "      <td>1.169190</td>\n",
              "    </tr>\n",
              "    <tr>\n",
              "      <th>583</th>\n",
              "      <td>0.555643</td>\n",
              "      <td>0.014580</td>\n",
              "      <td>0.541063</td>\n",
              "      <td>0</td>\n",
              "      <td>0.014580</td>\n",
              "    </tr>\n",
              "    <tr>\n",
              "      <th>393</th>\n",
              "      <td>1.705704</td>\n",
              "      <td>0.080494</td>\n",
              "      <td>1.625209</td>\n",
              "      <td>1</td>\n",
              "      <td>1.705704</td>\n",
              "    </tr>\n",
              "    <tr>\n",
              "      <th>325</th>\n",
              "      <td>0.412384</td>\n",
              "      <td>1.189149</td>\n",
              "      <td>-0.776765</td>\n",
              "      <td>0</td>\n",
              "      <td>1.189149</td>\n",
              "    </tr>\n",
              "  </tbody>\n",
              "</table>\n",
              "</div>"
            ],
            "text/plain": [
              "     $Y^{(D=1)}$  $Y^{(D=0)}$  $\\delta$  $D$       $Y$\n",
              "16     -0.164672     1.000173 -1.164844    1 -0.164672\n",
              "261     1.169190    -0.475214  1.644403    1  1.169190\n",
              "583     0.555643     0.014580  0.541063    0  0.014580\n",
              "393     1.705704     0.080494  1.625209    1  1.705704\n",
              "325     0.412384     1.189149 -0.776765    0  1.189149"
            ]
          },
          "metadata": {
            "tags": []
          },
          "execution_count": 30
        }
      ]
    },
    {
      "cell_type": "markdown",
      "metadata": {
        "id": "4CUno2O1ZzdW",
        "colab_type": "text"
      },
      "source": [
        "HW 1 (a) - Gaussian random with mean = 1"
      ]
    },
    {
      "cell_type": "code",
      "metadata": {
        "id": "1g2FEgMVY1ba",
        "colab_type": "code",
        "colab": {
          "base_uri": "https://localhost:8080/",
          "height": 198
        },
        "outputId": "62453f18-132c-4105-bd6f-ab081e32a5f5"
      },
      "source": [
        "N = 1000\n",
        "delta = 1.\n",
        "\n",
        "y0 = np.random.normal(size=N)\n",
        "y1 = np.random.normal(delta, size=N)\n",
        "\n",
        "\n",
        "deltas = y1 - y0\n",
        "\n",
        "df = pd.DataFrame({'$Y^{(D=1)}$': y1,\n",
        "                   '$Y^{(D=0)}$': y0,\n",
        "                   '$\\delta$': deltas })\n",
        "df.head()"
      ],
      "execution_count": 34,
      "outputs": [
        {
          "output_type": "execute_result",
          "data": {
            "text/html": [
              "<div>\n",
              "<style scoped>\n",
              "    .dataframe tbody tr th:only-of-type {\n",
              "        vertical-align: middle;\n",
              "    }\n",
              "\n",
              "    .dataframe tbody tr th {\n",
              "        vertical-align: top;\n",
              "    }\n",
              "\n",
              "    .dataframe thead th {\n",
              "        text-align: right;\n",
              "    }\n",
              "</style>\n",
              "<table border=\"1\" class=\"dataframe\">\n",
              "  <thead>\n",
              "    <tr style=\"text-align: right;\">\n",
              "      <th></th>\n",
              "      <th>$Y^{(D=1)}$</th>\n",
              "      <th>$Y^{(D=0)}$</th>\n",
              "      <th>$\\delta$</th>\n",
              "    </tr>\n",
              "  </thead>\n",
              "  <tbody>\n",
              "    <tr>\n",
              "      <th>0</th>\n",
              "      <td>1.632642</td>\n",
              "      <td>-0.016060</td>\n",
              "      <td>1.648702</td>\n",
              "    </tr>\n",
              "    <tr>\n",
              "      <th>1</th>\n",
              "      <td>2.850250</td>\n",
              "      <td>0.417999</td>\n",
              "      <td>2.432251</td>\n",
              "    </tr>\n",
              "    <tr>\n",
              "      <th>2</th>\n",
              "      <td>0.761129</td>\n",
              "      <td>1.052514</td>\n",
              "      <td>-0.291385</td>\n",
              "    </tr>\n",
              "    <tr>\n",
              "      <th>3</th>\n",
              "      <td>0.821698</td>\n",
              "      <td>-0.601212</td>\n",
              "      <td>1.422910</td>\n",
              "    </tr>\n",
              "    <tr>\n",
              "      <th>4</th>\n",
              "      <td>1.048360</td>\n",
              "      <td>1.903079</td>\n",
              "      <td>-0.854720</td>\n",
              "    </tr>\n",
              "  </tbody>\n",
              "</table>\n",
              "</div>"
            ],
            "text/plain": [
              "   $Y^{(D=1)}$  $Y^{(D=0)}$  $\\delta$\n",
              "0     1.632642    -0.016060  1.648702\n",
              "1     2.850250     0.417999  2.432251\n",
              "2     0.761129     1.052514 -0.291385\n",
              "3     0.821698    -0.601212  1.422910\n",
              "4     1.048360     1.903079 -0.854720"
            ]
          },
          "metadata": {
            "tags": []
          },
          "execution_count": 34
        }
      ]
    },
    {
      "cell_type": "code",
      "metadata": {
        "id": "YYSKheujZ3PR",
        "colab_type": "code",
        "colab": {}
      },
      "source": [
        "mean = 1\n",
        "sd = 0.1\n",
        "df['$D$'] = np.random.normal(mean, sd , N)"
      ],
      "execution_count": 0,
      "outputs": []
    },
    {
      "cell_type": "code",
      "metadata": {
        "id": "ulXX7StfcBpf",
        "colab_type": "code",
        "colab": {
          "base_uri": "https://localhost:8080/",
          "height": 198
        },
        "outputId": "92bb3ed7-8f94-4181-c824-80c4b783c8b6"
      },
      "source": [
        "df['$Y$'] = df['$D$'] * df['$Y^{(D=1)}$'] + \\\n",
        "(1. - df['$D$']) * df['$Y^{(D=0)}$']\n",
        "            \n",
        "df.sample(5)"
      ],
      "execution_count": 38,
      "outputs": [
        {
          "output_type": "execute_result",
          "data": {
            "text/html": [
              "<div>\n",
              "<style scoped>\n",
              "    .dataframe tbody tr th:only-of-type {\n",
              "        vertical-align: middle;\n",
              "    }\n",
              "\n",
              "    .dataframe tbody tr th {\n",
              "        vertical-align: top;\n",
              "    }\n",
              "\n",
              "    .dataframe thead th {\n",
              "        text-align: right;\n",
              "    }\n",
              "</style>\n",
              "<table border=\"1\" class=\"dataframe\">\n",
              "  <thead>\n",
              "    <tr style=\"text-align: right;\">\n",
              "      <th></th>\n",
              "      <th>$Y^{(D=1)}$</th>\n",
              "      <th>$Y^{(D=0)}$</th>\n",
              "      <th>$\\delta$</th>\n",
              "      <th>$D$</th>\n",
              "      <th>$Y$</th>\n",
              "    </tr>\n",
              "  </thead>\n",
              "  <tbody>\n",
              "    <tr>\n",
              "      <th>801</th>\n",
              "      <td>-0.465152</td>\n",
              "      <td>-0.072859</td>\n",
              "      <td>-0.392294</td>\n",
              "      <td>1.007304</td>\n",
              "      <td>-0.468018</td>\n",
              "    </tr>\n",
              "    <tr>\n",
              "      <th>455</th>\n",
              "      <td>0.576756</td>\n",
              "      <td>-0.732507</td>\n",
              "      <td>1.309264</td>\n",
              "      <td>0.995576</td>\n",
              "      <td>0.570965</td>\n",
              "    </tr>\n",
              "    <tr>\n",
              "      <th>388</th>\n",
              "      <td>1.451822</td>\n",
              "      <td>-0.226397</td>\n",
              "      <td>1.678218</td>\n",
              "      <td>1.036272</td>\n",
              "      <td>1.512694</td>\n",
              "    </tr>\n",
              "    <tr>\n",
              "      <th>912</th>\n",
              "      <td>3.408092</td>\n",
              "      <td>0.482347</td>\n",
              "      <td>2.925745</td>\n",
              "      <td>1.112032</td>\n",
              "      <td>3.735870</td>\n",
              "    </tr>\n",
              "    <tr>\n",
              "      <th>773</th>\n",
              "      <td>2.112859</td>\n",
              "      <td>-1.921841</td>\n",
              "      <td>4.034700</td>\n",
              "      <td>0.927569</td>\n",
              "      <td>1.820623</td>\n",
              "    </tr>\n",
              "  </tbody>\n",
              "</table>\n",
              "</div>"
            ],
            "text/plain": [
              "     $Y^{(D=1)}$  $Y^{(D=0)}$  $\\delta$       $D$       $Y$\n",
              "801    -0.465152    -0.072859 -0.392294  1.007304 -0.468018\n",
              "455     0.576756    -0.732507  1.309264  0.995576  0.570965\n",
              "388     1.451822    -0.226397  1.678218  1.036272  1.512694\n",
              "912     3.408092     0.482347  2.925745  1.112032  3.735870\n",
              "773     2.112859    -1.921841  4.034700  0.927569  1.820623"
            ]
          },
          "metadata": {
            "tags": []
          },
          "execution_count": 38
        }
      ]
    },
    {
      "cell_type": "code",
      "metadata": {
        "id": "LlC_NVOpcIak",
        "colab_type": "code",
        "colab": {}
      },
      "source": [
        ""
      ],
      "execution_count": 0,
      "outputs": []
    }
  ]
}